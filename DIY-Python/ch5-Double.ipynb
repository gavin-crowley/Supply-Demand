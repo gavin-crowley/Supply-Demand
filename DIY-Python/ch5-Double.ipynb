{
 "cells": [
  {
   "cell_type": "code",
   "execution_count": 1,
   "metadata": {},
   "outputs": [],
   "source": [
    "import numpy as np\n",
    "import pandas as pd"
   ]
  },
  {
   "cell_type": "code",
   "execution_count": 8,
   "metadata": {},
   "outputs": [],
   "source": [
    "def double_exp_smooth(d, extra_periods=1, alpha=0.4, beta=0.4):\n",
    "    \n",
    "    # Historical period length\n",
    "    cols = len(d) \n",
    "    # Append np.nan into the demand array to cover future periods\n",
    "    d = np.append(d,[np.nan]*extra_periods) \n",
    "    \n",
    "    # Creation of the level, trend and forecast arrays\n",
    "    f,a,b = np.full((3,cols+extra_periods),np.nan)\n",
    "    \n",
    "    # Level & Trend initialization\n",
    "    a[0] = d[0]\n",
    "    b[0] = d[1] - d[0]\n",
    " \n",
    "    # Create all the t+1 forecast\n",
    "    for t in range(1,cols):\n",
    "        f[t] = a[t-1] + b[t-1]       \n",
    "        a[t] = alpha*d[t] + (1-alpha)*(a[t-1]+b[t-1])       \n",
    "        b[t] = beta*(a[t]-a[t-1]) + (1-beta)*b[t-1]\n",
    "        \n",
    "    # Forecast for all extra periods\n",
    "    for t in range(cols,cols+extra_periods):\n",
    "        f[t] = a[t-1] + b[t-1]\n",
    "        a[t] = f[t]\n",
    "        b[t] = b[t-1]\n",
    "                          \n",
    "    df = pd.DataFrame.from_dict({'Demand':d,'Forecast':f,'Level':a,'Trend':b,'Error':d-f})\n",
    "  \n",
    "    return df"
   ]
  },
  {
   "cell_type": "code",
   "execution_count": 9,
   "metadata": {},
   "outputs": [],
   "source": [
    "d = [28,19,18,13,19,16,19,18,13,16,16,11,18,15,13,15,13,11,13,10,12]\n",
    "df = double_exp_smooth(d, extra_periods=4)"
   ]
  },
  {
   "cell_type": "code",
   "execution_count": 5,
   "metadata": {},
   "outputs": [],
   "source": [
    "def kpi(df):\n",
    "    dem_ave = df.loc[df['Error'].notnull(),'Demand'].mean()\n",
    "    bias_abs = df['Error'].mean()\n",
    "    bias_rel = bias_abs / dem_ave\n",
    "    print('Bias: {:0.2f}, {:.2%}'.format(bias_abs,bias_rel))\n",
    "    MAPE = (df['Error'].abs()/df['Demand']).mean()\n",
    "    print('MAPE: {:.2%}'.format(MAPE))\n",
    "    MAE_abs = df['Error'].abs().mean()\n",
    "    MAE_rel = MAE_abs / dem_ave\n",
    "    print('MAE: {:0.2f}, {:.2%}'.format(MAE_abs,MAE_rel))\n",
    "    RMSE_abs = np.sqrt((df['Error']**2).mean())\n",
    "    RMSE_rel = RMSE_abs / dem_ave\n",
    "    print('RMSE: {:0.2f}, {:.2%}'.format(RMSE_abs,RMSE_rel))"
   ]
  },
  {
   "cell_type": "code",
   "execution_count": 10,
   "metadata": {},
   "outputs": [
    {
     "name": "stdout",
     "output_type": "stream",
     "text": [
      "Bias: 2.64, 17.71%\n",
      "MAPE: 28.14%\n",
      "MAE: 4.38, 29.40%\n",
      "RMSE: 6.26, 42.02%\n"
     ]
    }
   ],
   "source": [
    "kpi(df)"
   ]
  },
  {
   "cell_type": "code",
   "execution_count": 11,
   "metadata": {},
   "outputs": [
    {
     "data": {
      "image/png": "[encoded data removed]",
      "text/plain": [
       "<Figure size 576x216 with 1 Axes>"
      ]
     },
     "metadata": {
      "needs_background": "light"
     },
     "output_type": "display_data"
    }
   ],
   "source": [
    "df.index.name = 'Period'\n",
    "df[['Demand','Forecast']].plot(figsize=(8,3), title='Double Smoothing',ylim=(0,30), style=['-','--']);"
   ]
  },
  {
   "cell_type": "code",
   "execution_count": null,
   "metadata": {},
   "outputs": [],
   "source": []
  }
 ],
 "metadata": {
  "interpreter": {
   "hash": "a0f9931ccc041a018e08ac3afc72da254cd45458ab2ed488192720cc3e66859a"
  },
  "kernelspec": {
   "display_name": "Python 3.8.8 64-bit ('base': conda)",
   "name": "python3"
  },
  "language_info": {
   "codemirror_mode": {
    "name": "ipython",
    "version": 3
   },
   "file_extension": ".py",
   "mimetype": "text/x-python",
   "name": "python",
   "nbconvert_exporter": "python",
   "pygments_lexer": "ipython3",
   "version": "3.8.8"
  },
  "orig_nbformat": 4
 },
 "nbformat": 4,
 "nbformat_minor": 2
}
