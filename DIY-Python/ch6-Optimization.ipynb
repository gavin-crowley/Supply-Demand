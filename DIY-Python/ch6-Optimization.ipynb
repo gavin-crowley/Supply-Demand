{
 "cells": [
  {
   "cell_type": "code",
   "execution_count": 5,
   "metadata": {},
   "outputs": [],
   "source": [
    "\n",
    "import pandas as pd\n",
    "import numpy as np\n",
    "import matplotlib.pyplot as plt\n",
    "import matplotlib\n",
    "font = { 'size'   : 12}\n",
    "matplotlib.rc('font', **font)\n",
    "inputs = 'Data//'\n",
    "outputs = 'Figures//' "
   ]
  },
  {
   "cell_type": "code",
   "execution_count": 11,
   "metadata": {},
   "outputs": [],
   "source": [
    "def simple_exp_smooth(d, extra_periods=1, alpha=0.4):\n",
    "   \n",
    "    # Historical period length\n",
    "    cols = len(d) \n",
    "    # Append np.nan into the demand array to cover future periods\n",
    "    d = np.append(d,[np.nan]*extra_periods) \n",
    "    \n",
    "    # Forecast array\n",
    "    f = np.full(cols+extra_periods,np.nan) \n",
    "    # Initilization of first forecast\n",
    "    f[1] = d[0]\n",
    "    \n",
    "    # Create all the t+1 forecast until end of historical period\n",
    "    for t in range(2,cols+1):\n",
    "        f[t] = alpha*d[t-1]+(1-alpha)*f[t-1]\n",
    "     \n",
    "    # Forecast for all extra periods\n",
    "    for t in range(cols+1,cols+extra_periods):\n",
    "        # Update the forecast as the previous forecast\n",
    "        f[t] = f[t-1]\n",
    "           \n",
    "    df = pd.DataFrame.from_dict({'Demand':d,'Forecast':f,'Error':d-f})\n",
    "  \n",
    "    return df"
   ]
  },
  {
   "cell_type": "code",
   "execution_count": 12,
   "metadata": {},
   "outputs": [],
   "source": [
    "def double_exp_smooth(d, extra_periods=1, alpha=0.4, beta=0.4):\n",
    "    \n",
    "    # Historical period length\n",
    "    cols = len(d) \n",
    "    # Append np.nan into the demand array to cover future periods\n",
    "    d = np.append(d,[np.nan]*extra_periods) \n",
    "    \n",
    "    # Creation of the level, trend and forecast arrays\n",
    "    f,a,b = np.full((3,cols+extra_periods),np.nan)\n",
    "    \n",
    "    # Level & Trend initialization\n",
    "    a[0] = d[0]\n",
    "    b[0] = d[1] - d[0]\n",
    " \n",
    "    # Create all the t+1 forecast\n",
    "    for t in range(1,cols):\n",
    "        f[t] = a[t-1] + b[t-1]       \n",
    "        a[t] = alpha*d[t] + (1-alpha)*(a[t-1]+b[t-1])       \n",
    "        b[t] = beta*(a[t]-a[t-1]) + (1-beta)*b[t-1]\n",
    "        \n",
    "    # Forecast for all extra periods\n",
    "    for t in range(cols,cols+extra_periods):\n",
    "        f[t] = a[t-1] + b[t-1]\n",
    "        a[t] = f[t]\n",
    "        b[t] = b[t-1]\n",
    "                          \n",
    "    df = pd.DataFrame.from_dict({'Demand':d,'Forecast':f,'Level':a,'Trend':b,'Error':d-f})\n",
    "  \n",
    "    return df"
   ]
  },
  {
   "cell_type": "code",
   "execution_count": 24,
   "metadata": {},
   "outputs": [],
   "source": [
    "def exp_smooth_opti(d, extra_periods=6):\n",
    "    params = []\n",
    "    KPIs = []\n",
    "    dfs = []\n",
    "\n",
    "    for alpha in [0.05,0.1,0.2,0.3,0.4,0.5,0.6]:\n",
    "        df = simple_exp_smooth(d,extra_periods=extra_periods,alpha=alpha)\n",
    "        params.append(f'Simple Smoothing, alpha: {alpha}')\n",
    "        dfs.append(df)\n",
    "        MAE = df['Error'].abs().mean()\n",
    "        KPIs.append(MAE)\n",
    "\n",
    "        for beta in [0.05,0.1,0.2,0.3,0.4]:\n",
    "            df = double_exp_smooth(d,extra_periods=extra_periods,alpha=alpha)\n",
    "            params.append(f'Double Smoothing, alpha: {alpha}, beta:{beta}')\n",
    "            dfs.append(df)\n",
    "            MAE = df['Error'].abs().mean()\n",
    "            KPIs.append(MAE)\n",
    "        \n",
    "    mini = np.argmin(KPIs)\n",
    "    print(f'Best solution found for {params[mini]} MAE of', round(KPIs[mini],2))\n",
    "\n",
    "    return dfs[mini]\n",
    "        "
   ]
  },
  {
   "cell_type": "code",
   "execution_count": 25,
   "metadata": {},
   "outputs": [
    {
     "name": "stdout",
     "output_type": "stream",
     "text": [
      "Best solution found for Simple Smoothing, alpha: 0.4 MAE of 2.74\n"
     ]
    }
   ],
   "source": [
    "d = [28,19,18,13,19,16,19,18,13,16,16,11,18,15,13,15,13,11,13,10,12]\n",
    "df = exp_smooth_opti(d)\n"
   ]
  },
  {
   "cell_type": "code",
   "execution_count": 17,
   "metadata": {},
   "outputs": [
    {
     "data": {
      "text/plain": [
       "<AxesSubplot:title={'center':'Best model found'}>"
      ]
     },
     "execution_count": 17,
     "metadata": {},
     "output_type": "execute_result"
    },
    {
     "data": {
      "image/png": "[encoded data removed]",
      "text/plain": [
       "<Figure size 576x216 with 1 Axes>"
      ]
     },
     "metadata": {
      "needs_background": "light"
     },
     "output_type": "display_data"
    }
   ],
   "source": [
    "df[['Demand','Forecast']].plot(figsize=(8,3),title='Best model found',ylim=(0,30),style=['-','--'])"
   ]
  },
  {
   "cell_type": "code",
   "execution_count": null,
   "metadata": {},
   "outputs": [],
   "source": []
  }
 ],
 "metadata": {
  "interpreter": {
   "hash": "a0f9931ccc041a018e08ac3afc72da254cd45458ab2ed488192720cc3e66859a"
  },
  "kernelspec": {
   "display_name": "Python 3.8.8 64-bit ('base': conda)",
   "name": "python3"
  },
  "language_info": {
   "codemirror_mode": {
    "name": "ipython",
    "version": 3
   },
   "file_extension": ".py",
   "mimetype": "text/x-python",
   "name": "python",
   "nbconvert_exporter": "python",
   "pygments_lexer": "ipython3",
   "version": "3.8.8"
  },
  "orig_nbformat": 4
 },
 "nbformat": 4,
 "nbformat_minor": 2
}
